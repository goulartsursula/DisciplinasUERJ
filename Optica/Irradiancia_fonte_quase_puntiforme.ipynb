{
  "nbformat": 4,
  "nbformat_minor": 0,
  "metadata": {
    "colab": {
      "name": "Irradiancia-fonte-quase-puntiforme.ipynb",
      "provenance": [],
      "authorship_tag": "ABX9TyOJYERFASlAr4IlyBbodcA2",
      "include_colab_link": true
    },
    "kernelspec": {
      "name": "python3",
      "display_name": "Python 3"
    }
  },
  "cells": [
    {
      "cell_type": "markdown",
      "metadata": {
        "id": "view-in-github",
        "colab_type": "text"
      },
      "source": [
        "<a href=\"https://colab.research.google.com/github/goulartsursula/disciplinas-uerj/blob/master/optica/Irradiancia_fonte_quase_puntiforme.ipynb\" target=\"_parent\"><img src=\"https://colab.research.google.com/assets/colab-badge.svg\" alt=\"Open In Colab\"/></a>"
      ]
    },
    {
      "cell_type": "code",
      "metadata": {
        "id": "6UyH9VgImsWq",
        "colab_type": "code",
        "colab": {}
      },
      "source": [
        "import matplotlib.pyplot as plt"
      ],
      "execution_count": null,
      "outputs": []
    },
    {
      "cell_type": "code",
      "metadata": {
        "id": "afxzJBOTm3km",
        "colab_type": "code",
        "colab": {}
      },
      "source": [
        "r = [1.5, 2.5, 3.5, 4.5, 5.5, 6.5, 7.5, 8.5, 9.5, 10.5, 11.5, 12.5, 13.5, 14.5, 15.5, 17.5, 19.5, 21.5, 23.5, 25.5, 28.5, 36.5]\n",
        "i = [211.0, 89.0, 49.0, 31.0, 20.0, 14.2, 11.4, 8.5, 6.9, 5.8, 4.8, 4.0, 3.5, 3.0, 2.8, 2.0, 1.7, 1.3, 1.1, 1.0, 0.9, 0.4]"
      ],
      "execution_count": null,
      "outputs": []
    },
    {
      "cell_type": "code",
      "metadata": {
        "id": "HikY9GHLoTBs",
        "colab_type": "code",
        "colab": {
          "base_uri": "https://localhost:8080/",
          "height": 295
        },
        "outputId": "33504b10-0697-4ffd-85be-6c79996c473a"
      },
      "source": [
        "plt.xlabel(\"r (cm)\")\n",
        "plt.ylabel(\"i ($\\mu$A)\")\n",
        "plt.title(\"r x i\")\n",
        "plt.plot(r, i, color=\"red\")\n",
        "plt.show()"
      ],
      "execution_count": null,
      "outputs": [
        {
          "output_type": "display_data",
          "data": {
            "image/png": "[encoded data removed]",
            "text/plain": [
              "<Figure size 432x288 with 1 Axes>"
            ]
          },
          "metadata": {
            "tags": [],
            "needs_background": "light"
          }
        }
      ]
    },
    {
      "cell_type": "code",
      "metadata": {
        "id": "UrVzX5W_qlg7",
        "colab_type": "code",
        "colab": {
          "base_uri": "https://localhost:8080/",
          "height": 295
        },
        "outputId": "6b0ead29-9a61-4bbc-9fa4-7ef3ac0ef395"
      },
      "source": [
        "import numpy as np\n",
        "plt.xlabel(\"r (cm)\")\n",
        "plt.ylabel(\"i ($\\mu$A)\")\n",
        "plt.title(\"log(r) x log(i)\")\n",
        "logr = np.log10(r)\n",
        "logi = np.log10(i)\n",
        "plt.plot(logr, logi, color='red')\n",
        "plt.show()"
      ],
      "execution_count": null,
      "outputs": [
        {
          "output_type": "display_data",
          "data": {
            "image/png": "[encoded data removed]",
            "text/plain": [
              "<Figure size 432x288 with 1 Axes>"
            ]
          },
          "metadata": {
            "tags": [],
            "needs_background": "light"
          }
        }
      ]
    },
    {
      "cell_type": "code",
      "metadata": {
        "id": "nHYi1C3z1V3d",
        "colab_type": "code",
        "colab": {
          "base_uri": "https://localhost:8080/",
          "height": 307
        },
        "outputId": "4acabf66-89ce-423f-a406-7000bc2ac62b"
      },
      "source": [
        "plt.xlabel(\"r ($cm^{-2}$)\")\n",
        "plt.ylabel(\"i ($\\mu$A)\")\n",
        "plt.title(r\"$\\frac{1}{r^{2}}$ x i\")\n",
        "plt.plot(1/(np.array(r)**2),i, color='red')\n",
        "plt.show()"
      ],
      "execution_count": null,
      "outputs": [
        {
          "output_type": "display_data",
          "data": {
            "image/png": "[encoded data removed]",
            "text/plain": [
              "<Figure size 432x288 with 1 Axes>"
            ]
          },
          "metadata": {
            "tags": [],
            "needs_background": "light"
          }
        }
      ]
    },
    {
      "cell_type": "markdown",
      "metadata": {
        "id": "Hl_2MkoT9nMn",
        "colab_type": "text"
      },
      "source": [
        "Covariância"
      ]
    },
    {
      "cell_type": "code",
      "metadata": {
        "id": "wMHFWADF1wQ9",
        "colab_type": "code",
        "colab": {
          "base_uri": "https://localhost:8080/",
          "height": 34
        },
        "outputId": "7eedf89f-68ba-40cb-96f0-a33a5aa9f772"
      },
      "source": [
        "cov = (1/21) * np.sum((logr-np.mean(logr))*(logi-np.mean(logi)))\n",
        "cov"
      ],
      "execution_count": null,
      "outputs": [
        {
          "output_type": "execute_result",
          "data": {
            "text/plain": [
              "-0.24615982728159"
            ]
          },
          "metadata": {
            "tags": []
          },
          "execution_count": 25
        }
      ]
    },
    {
      "cell_type": "markdown",
      "metadata": {
        "id": "7jhqngFw9p9K",
        "colab_type": "text"
      },
      "source": [
        "Variância:"
      ]
    },
    {
      "cell_type": "code",
      "metadata": {
        "id": "x7YK6aAS5izL",
        "colab_type": "code",
        "colab": {
          "base_uri": "https://localhost:8080/",
          "height": 34
        },
        "outputId": "c1d483e6-7fa9-4fae-d548-caba8e344f3f"
      },
      "source": [
        "vari = np.mean(logr**2)-np.mean(logr)**2\n",
        "vari"
      ],
      "execution_count": null,
      "outputs": [
        {
          "output_type": "execute_result",
          "data": {
            "text/plain": [
              "0.12077817273335745"
            ]
          },
          "metadata": {
            "tags": []
          },
          "execution_count": 26
        }
      ]
    },
    {
      "cell_type": "markdown",
      "metadata": {
        "id": "FLiXsW_U9660",
        "colab_type": "text"
      },
      "source": [
        "Ajuste linear"
      ]
    },
    {
      "cell_type": "code",
      "metadata": {
        "id": "mnhVYsCC6KVH",
        "colab_type": "code",
        "colab": {
          "base_uri": "https://localhost:8080/",
          "height": 34
        },
        "outputId": "9f97045e-0ec0-45f1-a497-67b682a4601f"
      },
      "source": [
        "a = cov/vari\n",
        "a"
      ],
      "execution_count": null,
      "outputs": [
        {
          "output_type": "execute_result",
          "data": {
            "text/plain": [
              "-2.0381151801744695"
            ]
          },
          "metadata": {
            "tags": []
          },
          "execution_count": 29
        }
      ]
    },
    {
      "cell_type": "code",
      "metadata": {
        "id": "r2ZRO1FI6db_",
        "colab_type": "code",
        "colab": {
          "base_uri": "https://localhost:8080/",
          "height": 34
        },
        "outputId": "ac601cdc-f5d9-4946-dc72-7a95b7ae5eee"
      },
      "source": [
        "b = -np.mean(logr) * a + np.mean(logi)\n",
        "b"
      ],
      "execution_count": null,
      "outputs": [
        {
          "output_type": "execute_result",
          "data": {
            "text/plain": [
              "2.82738711168086"
            ]
          },
          "metadata": {
            "tags": []
          },
          "execution_count": 32
        }
      ]
    },
    {
      "cell_type": "code",
      "metadata": {
        "id": "Y2rgLpGh8Vwe",
        "colab_type": "code",
        "colab": {
          "base_uri": "https://localhost:8080/",
          "height": 295
        },
        "outputId": "0cbe3ce6-719d-4c6c-e528-145c271dfe7c"
      },
      "source": [
        "import numpy as np\n",
        "plt.xlabel(\"r (cm)\")\n",
        "plt.ylabel(\"i ($\\mu$A)\")\n",
        "plt.title(\"log(r) x log(i)\")\n",
        "plt.scatter(logr, logi, color='red')\n",
        "plt.plot(logr, logr*a+b, color='black')\n",
        "plt.show()"
      ],
      "execution_count": null,
      "outputs": [
        {
          "output_type": "display_data",
          "data": {
            "image/png": "[encoded data removed]",
            "text/plain": [
              "<Figure size 432x288 with 1 Axes>"
            ]
          },
          "metadata": {
            "tags": [],
            "needs_background": "light"
          }
        }
      ]
    },
    {
      "cell_type": "markdown",
      "metadata": {
        "id": "Oa6PiGwCAHZs",
        "colab_type": "text"
      },
      "source": [
        "Comparar valor teórico com o valor experimental"
      ]
    },
    {
      "cell_type": "code",
      "metadata": {
        "id": "Zg35gljsC86E",
        "colab_type": "code",
        "colab": {
          "base_uri": "https://localhost:8080/",
          "height": 34
        },
        "outputId": "4016a02f-2bbe-4891-fb32-1795c964070c"
      },
      "source": [
        "percentual = (a - (-2))/(-2) *100\n",
        "percentual"
      ],
      "execution_count": null,
      "outputs": [
        {
          "output_type": "execute_result",
          "data": {
            "text/plain": [
              "1.9057590087234733"
            ]
          },
          "metadata": {
            "tags": []
          },
          "execution_count": 48
        }
      ]
    }
  ]
}
