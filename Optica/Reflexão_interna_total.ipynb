{
  "nbformat": 4,
  "nbformat_minor": 0,
  "metadata": {
    "colab": {
      "name": "Reflexão-interna-total.ipynb",
      "provenance": [],
      "authorship_tag": "ABX9TyMgdfsn8iakxnm499DT/gL1",
      "include_colab_link": true
    },
    "kernelspec": {
      "name": "python3",
      "display_name": "Python 3"
    }
  },
  "cells": [
    {
      "cell_type": "markdown",
      "metadata": {
        "id": "view-in-github",
        "colab_type": "text"
      },
      "source": [
        "<a href=\"https://colab.research.google.com/github/goulartsursula/disciplinas-uerj/blob/master/optica/Reflex%C3%A3o_interna_total.ipynb\" target=\"_parent\"><img src=\"https://colab.research.google.com/assets/colab-badge.svg\" alt=\"Open In Colab\"/></a>"
      ]
    },
    {
      "cell_type": "code",
      "metadata": {
        "id": "CWNUuSgZpA0N",
        "outputId": "6f33ee25-4d0c-4046-9efd-9cc4630f26e0",
        "colab": {
          "base_uri": "https://localhost:8080/",
          "height": 68
        }
      },
      "source": [
        "import numpy as np\n",
        "\n",
        "theta_i = np.array([5, 10, 15, 20, 25, 30, 35])\n",
        "theta_t = np.array([7.5, 15, 22.5, 30.5, 38.5, 47.5, 56.5])\n",
        "#ni = 1 \n",
        "nt = 1\n",
        "\n",
        "#def refracao(nt, mt):\n",
        "#  nt = ni * np.sin(theta_i * np.pi / 180)/np.sin(theta_t * np.pi / 180)\n",
        "#  mt = np.mean(nt)\n",
        "#  print(nt, mt)\n",
        "#def erro_refracao(valor_t, valor_exp):\n",
        "#  print('O erro percentual é dado por', (abs(valor_t - valor_exp)/valor_t)*100)\n",
        "#erro_refracao(1.49, 0.6762505256176594)\n",
        "#refracao(nt,mt)\n",
        "\n",
        "\n",
        "def refracao(ni,mi):\n",
        "  ni = nt * np.sin(theta_t * np.pi / 180)/np.sin(theta_i * np.pi / 180)\n",
        "  mi = np.mean(ni)\n",
        "  return ni, mi\n",
        "  print(mi)\n",
        "def erro_refracao(valor_t, valor_exp):\n",
        "  print('O erro percentual é dado por', (abs(valor_t - valor_exp)/valor_t)*100)\n",
        "\n",
        "erro_refracao(1.49, 1.4788575822988785)\n",
        "refracao(ni, mi)\n"
      ],
      "execution_count": null,
      "outputs": [
        {
          "output_type": "stream",
          "text": [
            "O erro percentual é dado por 0.7478132685316412\n"
          ],
          "name": "stdout"
        },
        {
          "output_type": "execute_result",
          "data": {
            "text/plain": [
              "(array([1.4976201 , 1.49047948, 1.47857524, 1.4839429 , 1.47299512,\n",
              "        1.47455467, 1.45383556]), 1.4788575822988785)"
            ]
          },
          "metadata": {
            "tags": []
          },
          "execution_count": 19
        }
      ]
    },
    {
      "cell_type": "code",
      "metadata": {
        "id": "euMWcVVXdSkv",
        "outputId": "1d50983a-6881-4dd2-de45-392fb75b22b3",
        "colab": {
          "base_uri": "https://localhost:8080/",
          "height": 34
        }
      },
      "source": [
        "np.arcsin(1/1.4788575822988785)"
      ],
      "execution_count": null,
      "outputs": [
        {
          "output_type": "execute_result",
          "data": {
            "text/plain": [
              "0.7425891228313132"
            ]
          },
          "metadata": {
            "tags": []
          },
          "execution_count": 6
        }
      ]
    },
    {
      "cell_type": "code",
      "metadata": {
        "id": "j9Hk-9lxT7M_",
        "outputId": "d5057846-29e2-4545-90e5-8ebccb62b35e",
        "colab": {
          "base_uri": "https://localhost:8080/",
          "height": 34
        }
      },
      "source": [
        "np.arcsin(1/1.49)"
      ],
      "execution_count": null,
      "outputs": [
        {
          "output_type": "execute_result",
          "data": {
            "text/plain": [
              "0.7357467619614884"
            ]
          },
          "metadata": {
            "tags": []
          },
          "execution_count": 60
        }
      ]
    },
    {
      "cell_type": "code",
      "metadata": {
        "id": "uqzCMimFYndK",
        "outputId": "7ed155aa-3cf7-4a21-b82d-9126a7c12b48",
        "colab": {
          "base_uri": "https://localhost:8080/",
          "height": 34
        }
      },
      "source": [
        "def erro_refracao(valor_t, valor_exp):\n",
        "  print('O erro percentual é dado por', (abs(valor_t - valor_exp)/valor_t)*100)\n",
        "\n",
        "erro_refracao(0.7357467619614884, 0.7425891228313132)"
      ],
      "execution_count": null,
      "outputs": [
        {
          "output_type": "stream",
          "text": [
            "O erro percentual é dado por 0.929988580796903\n"
          ],
          "name": "stdout"
        }
      ]
    },
    {
      "cell_type": "code",
      "metadata": {
        "id": "jvzUbgErdeQE"
      },
      "source": [
        ""
      ],
      "execution_count": null,
      "outputs": []
    }
  ]
}
