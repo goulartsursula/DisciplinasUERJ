{
  "nbformat": 4,
  "nbformat_minor": 0,
  "metadata": {
    "colab": {
      "provenance": [],
      "authorship_tag": "ABX9TyNCUHnhqQFeymT1RUFFARz3",
      "include_colab_link": true
    },
    "kernelspec": {
      "name": "python3",
      "display_name": "Python 3"
    },
    "language_info": {
      "name": "python"
    }
  },
  "cells": [
    {
      "cell_type": "markdown",
      "metadata": {
        "id": "view-in-github",
        "colab_type": "text"
      },
      "source": [
        "<a href=\"https://colab.research.google.com/github/goulartsursula/DisciplinasUERJ/blob/master/Introdu%C3%A7%C3%A3o%20%C3%A0%20Dosimetria/dosimetria.ipynb\" target=\"_parent\"><img src=\"https://colab.research.google.com/assets/colab-badge.svg\" alt=\"Open In Colab\"/></a>"
      ]
    },
    {
      "cell_type": "markdown",
      "source": [
        "#Introdução à Dosimetria\n",
        "Aluna: Ursula Goulart\n",
        "\n",
        "Professora: Dra. Luciana Coutinho"
      ],
      "metadata": {
        "id": "MhfF7JI6gzAJ"
      }
    },
    {
      "cell_type": "markdown",
      "source": [
        "#Experimento I: Dosimetria com Câmara de Ionização"
      ],
      "metadata": {
        "id": "Us2r-7nOhAj2"
      }
    },
    {
      "cell_type": "markdown",
      "source": [
        "Objetivos: Determinar a dose absorvida na água a uma profundidade de 10cm, ou seja, profundidade de máxima dose,utilizando a tensão do eletrômetro em -300V.\n"
      ],
      "metadata": {
        "id": "ZgZrKVxkhPVc"
      }
    },
    {
      "cell_type": "code",
      "execution_count": 1,
      "metadata": {
        "id": "c3LJEKe7f29v"
      },
      "outputs": [],
      "source": [
        "import numpy as np"
      ]
    },
    {
      "cell_type": "markdown",
      "source": [
        "##Dados\n",
        "\n",
        "* prof10: Medida de de dosimetria a uma profundidade de 10cm, com tensão de -300V;\n",
        "* dados_tneg150: Medida de de dosimetria a uma profundidade de 10cm, com tensão de -150V;\n",
        "* dados_t300: Medida de de dosimetria a uma profundidade de 10cm, com tensão de 300V;\n",
        "\n"
      ],
      "metadata": {
        "id": "BgKXBwJtgs3t"
      }
    },
    {
      "cell_type": "code",
      "source": [
        "prof10 = np.array([12.64, 12.63, 12.64, 12.63, 12.65])\n",
        "prof20 = np.array([7.298, 7.294, 7.302, 7.302, 7.287])\n",
        "dados_t300 = np.array([12.62, 12.63, 12.64, 12.63, 12.64])\n",
        "dados_tneg150 = np.array([12.63, 12.64, 12.63, 12.62, 12.63])"
      ],
      "metadata": {
        "id": "tqi4cvl_l6Pk"
      },
      "execution_count": 2,
      "outputs": []
    },
    {
      "cell_type": "markdown",
      "source": [
        "##Constantes:\n",
        "\n",
        "* p: pressão medida na sala;\n",
        "* t: temperatura medida na sala;\n",
        "* p0: pressão inicial dada pelo roteiro;\n",
        "* t0: temperatura inicial dada pelo roteiro;\n",
        "* kelec: fator de correção para a calibração do eletrômetro; \n",
        "* ndw: fator de calibração da câmara de ionização;\n",
        "* hpl: fator de correção para a diferença de fluência de elétrons no plástico comparada com aquela na água na profundidade equivalente;"
      ],
      "metadata": {
        "id": "OtNoVo1-igS5"
      }
    },
    {
      "cell_type": "code",
      "source": [
        "a0 = 2.337\n",
        "a1 = -3.636\n",
        "a2 = 2.299\n",
        "\n",
        "m1 = -300\n",
        "m2 = -150\n",
        "m3 = 300\n",
        "\n",
        "p = 1.017\n",
        "p0 = 1.01325\n",
        "t = 24.5\n",
        "t0 = 20\n",
        "ndw = 5.299\n",
        "kelec = 1\n",
        "kh = 1\n",
        "hpl = 1\n",
        "\n",
        "pdd = 67.7"
      ],
      "metadata": {
        "id": "Db6jk7glwvml"
      },
      "execution_count": 3,
      "outputs": []
    },
    {
      "cell_type": "code",
      "source": [
        "D10 = np.mean(prof10)\n",
        "error_D10 = np.std(prof10, ddof = 1)\n",
        "\n",
        "D20 = np.mean(prof20)\n",
        "error_D20 = np.std(prof20, ddof = 1)\n",
        "\n",
        "tneg300 = np.mean(prof10)\n",
        "\n",
        "tneg150 = np.mean(dados_tneg150)\n",
        "error_tneg150 = np.std(dados_tneg150, ddof = 1)\n",
        "\n",
        "t300 = np.mean(dados_t300)\n",
        "error_t300 = np.std(dados_t300, ddof = 1)\n",
        "\n",
        "print('D10 = {} +- {} \\nD20 = {} +- {} \\nM1 = -300 V = {} +- {} \\nM2 = -150 V = {} +- {} \\nM+ = +300 V = {} +- {}' .format(D10, error_D10, D20, error_D20, tneg300, error_D10, tneg150, error_tneg150, t300, error_t300))"
      ],
      "metadata": {
        "id": "MpRfm8g-greO",
        "outputId": "dd531397-4852-4842-a1ce-9d2464d29e74",
        "colab": {
          "base_uri": "https://localhost:8080/"
        }
      },
      "execution_count": 13,
      "outputs": [
        {
          "output_type": "stream",
          "name": "stdout",
          "text": [
            "D10 = 12.638000000000002 +- 0.008366600265340578 \n",
            "D20 = 7.2966 +- 0.006308724118234905 \n",
            "M1 = -300 V = 12.638000000000002 +- 0.008366600265340578 \n",
            "M2 = -150 V = 12.63 +- 0.007071067811865952 \n",
            "M+ = +300 V = 12.632000000000001 +- 0.008366600265341214\n"
          ]
        }
      ]
    },
    {
      "cell_type": "markdown",
      "source": [
        "### Cálculo do índice de qualidade do feixe a partir da determinação da razão das doses a 20cm e a 20cm de profundidade (tpr)"
      ],
      "metadata": {
        "id": "7IavCNfpk0Xx"
      }
    },
    {
      "cell_type": "code",
      "source": [
        "rdoses = D20/D10\n",
        "tpr = (1.2661 * rdoses) - 0.0595\n",
        "\n",
        "print('D10 = {} \\nD20 = {} \\nrdoses = {} \\ntpr = {}' .format(D10, D20, rdoses, tpr))"
      ],
      "metadata": {
        "colab": {
          "base_uri": "https://localhost:8080/"
        },
        "id": "UpJYsUAzwpYK",
        "outputId": "32f21616-08b5-414c-f254-463b75c0ebdd"
      },
      "execution_count": 5,
      "outputs": [
        {
          "output_type": "stream",
          "name": "stdout",
          "text": [
            "D10 = 12.638000000000002 \n",
            "D20 = 7.2966 \n",
            "rdoses = 0.5773540117107137 \n",
            "tpr = 0.6714879142269345\n"
          ]
        }
      ]
    },
    {
      "cell_type": "markdown",
      "source": [
        "Para determinar o fator de correção que relaciona a qualidade do feixe do usuário e o feixe γ de Co-60 da calibração do laboratório (kqq), é necessário realizar interpolação a partir de ktpr, utilizando a tabela \"Beam quality $TPR_{20/10}$"
      ],
      "metadata": {
        "id": "vmoyPIEIx4EC"
      }
    },
    {
      "cell_type": "code",
      "source": [
        "data = [[0.65, 0.994], [0.68, 0.990]]\n",
        "def interpolation(d, x):\n",
        "    kqq = d[0][1] + (x - d[0][0]) * ((d[1][1] - d[0][1])/(d[1][0] - d[0][0]))\n",
        "\n",
        "    return kqq\n",
        "\n",
        "kqq = interpolation(data, tpr)\n",
        "print(\"kqq = \", kqq)"
      ],
      "metadata": {
        "colab": {
          "base_uri": "https://localhost:8080/"
        },
        "id": "5ve_XsRuxOfi",
        "outputId": "30c88060-a9c7-417f-a742-4c8748c8af1b"
      },
      "execution_count": 6,
      "outputs": [
        {
          "output_type": "stream",
          "name": "stdout",
          "text": [
            "kqq =  0.9911349447697421\n"
          ]
        }
      ]
    },
    {
      "cell_type": "markdown",
      "source": [
        "### Fator de correção para a diferença na resposta na câmara de ionização devido à temperatura e pressão em ocondições diferentes das do laboratório (ktp)"
      ],
      "metadata": {
        "id": "g3WbjVnUlH5p"
      }
    },
    {
      "cell_type": "code",
      "source": [
        "ktp = ((273.2 + t)*p)/((273.2 + t0)*p0)\n",
        "print('ktp = ', ktp)"
      ],
      "metadata": {
        "colab": {
          "base_uri": "https://localhost:8080/"
        },
        "id": "zuBqup2llbYO",
        "outputId": "ac45c79e-f500-4a6c-f030-666e0efc8f7b"
      },
      "execution_count": 7,
      "outputs": [
        {
          "output_type": "stream",
          "name": "stdout",
          "text": [
            "ktp =  1.0191056495971351\n"
          ]
        }
      ]
    },
    {
      "cell_type": "markdown",
      "source": [
        "### Fator de correção para a diferença na resposta da câmara de ionização para a falta de completa coleção de cargas devido à recombinação iônica (ks)"
      ],
      "metadata": {
        "id": "kRNytv6elypJ"
      }
    },
    {
      "cell_type": "code",
      "source": [
        "ks = a0 + a1*(tneg300/tneg150) + a2*np.power(tneg300/tneg150, 2)\n",
        "print('ks = ', ks)"
      ],
      "metadata": {
        "colab": {
          "base_uri": "https://localhost:8080/"
        },
        "id": "l_zc4zzwmI6O",
        "outputId": "d23f92b9-f207-475c-b8b9-8d91f19f05eb"
      },
      "execution_count": 8,
      "outputs": [
        {
          "output_type": "stream",
          "name": "stdout",
          "text": [
            "ks =  1.0006102652195472\n"
          ]
        }
      ]
    },
    {
      "cell_type": "markdown",
      "source": [
        "### Fator de correção para a diferença na resposta da câmara de ionização devido ao efeito da mudança de polaridade da tensão aplicada à câmara (kpol)"
      ],
      "metadata": {
        "id": "zjWRjga4mn5L"
      }
    },
    {
      "cell_type": "code",
      "source": [
        "kpol = (t300 + tneg300)/(2*(tneg300))\n",
        "print('kpol = ', kpol)"
      ],
      "metadata": {
        "colab": {
          "base_uri": "https://localhost:8080/"
        },
        "id": "_c57n-9EmyZk",
        "outputId": "9501a579-2155-4885-a9e4-3caede96b615"
      },
      "execution_count": 9,
      "outputs": [
        {
          "output_type": "stream",
          "name": "stdout",
          "text": [
            "kpol =  0.9997626206678272\n"
          ]
        }
      ]
    },
    {
      "cell_type": "markdown",
      "source": [
        "### Leitura do dosímetro para a qualidade Q do feixe, corrigida para fatores de influência (mq)"
      ],
      "metadata": {
        "id": "BGW4qniSlgYF"
      }
    },
    {
      "cell_type": "code",
      "source": [
        "mq = tneg300 * ktp * kelec * kpol * ks * kh\n",
        "print('mq = ', mq)"
      ],
      "metadata": {
        "colab": {
          "base_uri": "https://localhost:8080/"
        },
        "id": "CMwt7cmDltgE",
        "outputId": "69da0b5c-111d-40cc-fef0-b5ef2042b602"
      },
      "execution_count": 10,
      "outputs": [
        {
          "output_type": "stream",
          "name": "stdout",
          "text": [
            "mq =  12.884257901661174\n"
          ]
        }
      ]
    },
    {
      "cell_type": "markdown",
      "source": [
        "### Determinação da dose absorvida na água, na profundidade de referência\n"
      ],
      "metadata": {
        "id": "PqP0pA9prStv"
      }
    },
    {
      "cell_type": "code",
      "source": [
        "dwq_ref = mq * ndw * kqq\n",
        "print('dwq_ref = ', dwq_ref)"
      ],
      "metadata": {
        "colab": {
          "base_uri": "https://localhost:8080/"
        },
        "id": "DW0vtRek6aEn",
        "outputId": "c683eb69-e2e8-4702-b158-0bc758460b51"
      },
      "execution_count": 11,
      "outputs": [
        {
          "output_type": "stream",
          "name": "stdout",
          "text": [
            "dwq_ref =  67.66843265369516\n"
          ]
        }
      ]
    },
    {
      "cell_type": "markdown",
      "source": [
        "### Determinação da dose absorvida na água, na profundidade máxima da dose"
      ],
      "metadata": {
        "id": "-9lvrltolvVi"
      }
    },
    {
      "cell_type": "code",
      "source": [
        "dwq = dwq_ref/pdd\n",
        "print('dwq = ', dwq)"
      ],
      "metadata": {
        "colab": {
          "base_uri": "https://localhost:8080/"
        },
        "id": "EIYercyz-aXe",
        "outputId": "ff94685a-d1db-4d5b-e99e-ebaef6169818"
      },
      "execution_count": 12,
      "outputs": [
        {
          "output_type": "stream",
          "name": "stdout",
          "text": [
            "dwq =  0.999533717188998\n"
          ]
        }
      ]
    }
  ]
}