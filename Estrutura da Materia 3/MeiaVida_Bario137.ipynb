{
  "nbformat": 4,
  "nbformat_minor": 0,
  "metadata": {
    "colab": {
      "name": "MeiaVida-Bario137.ipynb",
      "provenance": [],
      "collapsed_sections": [],
      "include_colab_link": true
    },
    "kernelspec": {
      "name": "python3",
      "display_name": "Python 3"
    },
    "language_info": {
      "name": "python"
    }
  },
  "cells": [
    {
      "cell_type": "markdown",
      "metadata": {
        "id": "view-in-github",
        "colab_type": "text"
      },
      "source": [
        "<a href=\"https://colab.research.google.com/github/goulartsursula/DisciplinasUERJ/blob/master/Estrutura%20da%20Materia%203/MeiaVida_Bario137.ipynb\" target=\"_parent\"><img src=\"https://colab.research.google.com/assets/colab-badge.svg\" alt=\"Open In Colab\"/></a>"
      ]
    },
    {
      "cell_type": "markdown",
      "metadata": {
        "id": "2-SNkLDTO2jX"
      },
      "source": [
        "# Meia-vida Bário 137\n",
        "\n",
        "### Objetivo\n",
        "\n",
        "Calcular $\\lambda$, através de \n",
        "\n",
        "$$\\boxed{A_t = A_0 \\ e^{\\lambda t}}$$\n",
        "\n",
        "Para, posteriormente, calcular a meia-vida do isótopo em questão\n",
        "\n",
        "$$\\boxed{\\tau = \\lambda \\ log(2) }$$\n"
      ]
    },
    {
      "cell_type": "code",
      "metadata": {
        "id": "u7aLF82fO3KI"
      },
      "source": [
        "import pandas as pd\n",
        "import numpy as np\n",
        "import matplotlib.pyplot as plt\n",
        "from scipy.optimize import curve_fit"
      ],
      "execution_count": null,
      "outputs": []
    },
    {
      "cell_type": "markdown",
      "metadata": {
        "id": "UdhrYoJvYNU0"
      },
      "source": [
        "### Construção da tabela de dados\n",
        "\n",
        "1. Diferença entre as contagens\n",
        "2. Como quando fazendo a contagem de eventos recebemos além da radiação da fonte (eventos de sinal), recebemos também a radiação do ambiente (evento de background), é necessário fazermos a diferença entre eles, de modo que fiquemos apenas a contagem de eventos provenientes da fonte. Essa diferença ta sendo chamada de 'TaxaMediaGM' e/ou 'TaxaMediaCintilador'.\n",
        "\n",
        "    Para GM: 46.1 contagens por minuto\n",
        "    \n",
        "    Para o cintilador: 3454.4 eventos por minuto\n",
        "\n",
        "3. Aplicar função logaritmica na base 10 na taxa média.\n",
        "4. Remover a primeira linha (Linha nula)\n"
      ]
    },
    {
      "cell_type": "code",
      "metadata": {
        "colab": {
          "base_uri": "https://localhost:8080/",
          "height": 548
        },
        "id": "xjCO-vr2GieM",
        "outputId": "0842a61f-dc89-4818-82cb-fd8fb2d5f1ca"
      },
      "source": [
        "data = pd.read_csv('bario137.csv')\n",
        "\n",
        "data['DiferencaGM'] = data['GM'].diff()\n",
        "data.fillna(0, inplace=True)\n",
        "\n",
        "data['DiferencaCintilador'] = data['Cintilador'].diff()\n",
        "data.fillna(0, inplace=True)\n",
        "\n",
        "data['TaxaMediaGM'] = data['DiferencaGM'] - (46.1/3)\n",
        "data['TaxaMediaCintilador'] = data['DiferencaCintilador'] - (3454.4/3)\n",
        "\n",
        "#data.at[0, 'TaxaMediaGM'] = 0\n",
        "#data.at[0, 'TaxaMediaCintilador'] = 0\n",
        "\n",
        "data['LogTaxaGM'] = np.log10(data['TaxaMediaGM'])\n",
        "data['LogTaxaCintilador'] = np.log10(data['TaxaMediaCintilador'])\n",
        "\n",
        "data = data.drop(data[data.TaxaMediaGM < 0].index)\n",
        "\n",
        "data.head(16)"
      ],
      "execution_count": null,
      "outputs": [
        {
          "output_type": "stream",
          "name": "stderr",
          "text": [
            "/usr/local/lib/python3.7/dist-packages/pandas/core/series.py:726: RuntimeWarning: invalid value encountered in log10\n",
            "  result = getattr(ufunc, method)(*inputs, **kwargs)\n"
          ]
        },
        {
          "output_type": "execute_result",
          "data": {
            "text/html": [
              "<div>\n",
              "<style scoped>\n",
              "    .dataframe tbody tr th:only-of-type {\n",
              "        vertical-align: middle;\n",
              "    }\n",
              "\n",
              "    .dataframe tbody tr th {\n",
              "        vertical-align: top;\n",
              "    }\n",
              "\n",
              "    .dataframe thead th {\n",
              "        text-align: right;\n",
              "    }\n",
              "</style>\n",
              "<table border=\"1\" class=\"dataframe\">\n",
              "  <thead>\n",
              "    <tr style=\"text-align: right;\">\n",
              "      <th></th>\n",
              "      <th>Tempo</th>\n",
              "      <th>GM</th>\n",
              "      <th>Cintilador</th>\n",
              "      <th>DiferencaGM</th>\n",
              "      <th>DiferencaCintilador</th>\n",
              "      <th>TaxaMediaGM</th>\n",
              "      <th>TaxaMediaCintilador</th>\n",
              "      <th>LogTaxaGM</th>\n",
              "      <th>LogTaxaCintilador</th>\n",
              "    </tr>\n",
              "  </thead>\n",
              "  <tbody>\n",
              "    <tr>\n",
              "      <th>1</th>\n",
              "      <td>20</td>\n",
              "      <td>419</td>\n",
              "      <td>40782</td>\n",
              "      <td>419.0</td>\n",
              "      <td>40782.0</td>\n",
              "      <td>403.633333</td>\n",
              "      <td>39630.533333</td>\n",
              "      <td>2.605987</td>\n",
              "      <td>4.598030</td>\n",
              "    </tr>\n",
              "    <tr>\n",
              "      <th>2</th>\n",
              "      <td>40</td>\n",
              "      <td>766</td>\n",
              "      <td>77879</td>\n",
              "      <td>347.0</td>\n",
              "      <td>37097.0</td>\n",
              "      <td>331.633333</td>\n",
              "      <td>35945.533333</td>\n",
              "      <td>2.520658</td>\n",
              "      <td>4.555645</td>\n",
              "    </tr>\n",
              "    <tr>\n",
              "      <th>3</th>\n",
              "      <td>60</td>\n",
              "      <td>1088</td>\n",
              "      <td>111949</td>\n",
              "      <td>322.0</td>\n",
              "      <td>34070.0</td>\n",
              "      <td>306.633333</td>\n",
              "      <td>32918.533333</td>\n",
              "      <td>2.486619</td>\n",
              "      <td>4.517440</td>\n",
              "    </tr>\n",
              "    <tr>\n",
              "      <th>4</th>\n",
              "      <td>80</td>\n",
              "      <td>1366</td>\n",
              "      <td>143187</td>\n",
              "      <td>278.0</td>\n",
              "      <td>31238.0</td>\n",
              "      <td>262.633333</td>\n",
              "      <td>30086.533333</td>\n",
              "      <td>2.419350</td>\n",
              "      <td>4.478372</td>\n",
              "    </tr>\n",
              "    <tr>\n",
              "      <th>5</th>\n",
              "      <td>100</td>\n",
              "      <td>1589</td>\n",
              "      <td>171580</td>\n",
              "      <td>223.0</td>\n",
              "      <td>28393.0</td>\n",
              "      <td>207.633333</td>\n",
              "      <td>27241.533333</td>\n",
              "      <td>2.317297</td>\n",
              "      <td>4.435232</td>\n",
              "    </tr>\n",
              "    <tr>\n",
              "      <th>6</th>\n",
              "      <td>120</td>\n",
              "      <td>1817</td>\n",
              "      <td>197775</td>\n",
              "      <td>228.0</td>\n",
              "      <td>26195.0</td>\n",
              "      <td>212.633333</td>\n",
              "      <td>25043.533333</td>\n",
              "      <td>2.327631</td>\n",
              "      <td>4.398696</td>\n",
              "    </tr>\n",
              "    <tr>\n",
              "      <th>7</th>\n",
              "      <td>140</td>\n",
              "      <td>2053</td>\n",
              "      <td>222129</td>\n",
              "      <td>236.0</td>\n",
              "      <td>24354.0</td>\n",
              "      <td>220.633333</td>\n",
              "      <td>23202.533333</td>\n",
              "      <td>2.343671</td>\n",
              "      <td>4.365535</td>\n",
              "    </tr>\n",
              "    <tr>\n",
              "      <th>8</th>\n",
              "      <td>160</td>\n",
              "      <td>2256</td>\n",
              "      <td>243868</td>\n",
              "      <td>203.0</td>\n",
              "      <td>21739.0</td>\n",
              "      <td>187.633333</td>\n",
              "      <td>20587.533333</td>\n",
              "      <td>2.273310</td>\n",
              "      <td>4.313604</td>\n",
              "    </tr>\n",
              "    <tr>\n",
              "      <th>9</th>\n",
              "      <td>180</td>\n",
              "      <td>2457</td>\n",
              "      <td>264019</td>\n",
              "      <td>201.0</td>\n",
              "      <td>20151.0</td>\n",
              "      <td>185.633333</td>\n",
              "      <td>18999.533333</td>\n",
              "      <td>2.268656</td>\n",
              "      <td>4.278743</td>\n",
              "    </tr>\n",
              "    <tr>\n",
              "      <th>10</th>\n",
              "      <td>200</td>\n",
              "      <td>2626</td>\n",
              "      <td>282707</td>\n",
              "      <td>169.0</td>\n",
              "      <td>18688.0</td>\n",
              "      <td>153.633333</td>\n",
              "      <td>17536.533333</td>\n",
              "      <td>2.186485</td>\n",
              "      <td>4.243944</td>\n",
              "    </tr>\n",
              "    <tr>\n",
              "      <th>11</th>\n",
              "      <td>220</td>\n",
              "      <td>2822</td>\n",
              "      <td>299811</td>\n",
              "      <td>196.0</td>\n",
              "      <td>17104.0</td>\n",
              "      <td>180.633333</td>\n",
              "      <td>15952.533333</td>\n",
              "      <td>2.256798</td>\n",
              "      <td>4.202830</td>\n",
              "    </tr>\n",
              "    <tr>\n",
              "      <th>12</th>\n",
              "      <td>240</td>\n",
              "      <td>2992</td>\n",
              "      <td>315298</td>\n",
              "      <td>170.0</td>\n",
              "      <td>15487.0</td>\n",
              "      <td>154.633333</td>\n",
              "      <td>14335.533333</td>\n",
              "      <td>2.189303</td>\n",
              "      <td>4.156414</td>\n",
              "    </tr>\n",
              "    <tr>\n",
              "      <th>13</th>\n",
              "      <td>260</td>\n",
              "      <td>3133</td>\n",
              "      <td>329919</td>\n",
              "      <td>141.0</td>\n",
              "      <td>14621.0</td>\n",
              "      <td>125.633333</td>\n",
              "      <td>13469.533333</td>\n",
              "      <td>2.099105</td>\n",
              "      <td>4.129353</td>\n",
              "    </tr>\n",
              "    <tr>\n",
              "      <th>14</th>\n",
              "      <td>280</td>\n",
              "      <td>3262</td>\n",
              "      <td>343148</td>\n",
              "      <td>129.0</td>\n",
              "      <td>13229.0</td>\n",
              "      <td>113.633333</td>\n",
              "      <td>12077.533333</td>\n",
              "      <td>2.055506</td>\n",
              "      <td>4.081978</td>\n",
              "    </tr>\n",
              "    <tr>\n",
              "      <th>15</th>\n",
              "      <td>300</td>\n",
              "      <td>3371</td>\n",
              "      <td>355178</td>\n",
              "      <td>109.0</td>\n",
              "      <td>12030.0</td>\n",
              "      <td>93.633333</td>\n",
              "      <td>10878.533333</td>\n",
              "      <td>1.971430</td>\n",
              "      <td>4.036570</td>\n",
              "    </tr>\n",
              "  </tbody>\n",
              "</table>\n",
              "</div>"
            ],
            "text/plain": [
              "    Tempo    GM  Cintilador  ...  TaxaMediaCintilador  LogTaxaGM  LogTaxaCintilador\n",
              "1      20   419       40782  ...         39630.533333   2.605987           4.598030\n",
              "2      40   766       77879  ...         35945.533333   2.520658           4.555645\n",
              "3      60  1088      111949  ...         32918.533333   2.486619           4.517440\n",
              "4      80  1366      143187  ...         30086.533333   2.419350           4.478372\n",
              "5     100  1589      171580  ...         27241.533333   2.317297           4.435232\n",
              "6     120  1817      197775  ...         25043.533333   2.327631           4.398696\n",
              "7     140  2053      222129  ...         23202.533333   2.343671           4.365535\n",
              "8     160  2256      243868  ...         20587.533333   2.273310           4.313604\n",
              "9     180  2457      264019  ...         18999.533333   2.268656           4.278743\n",
              "10    200  2626      282707  ...         17536.533333   2.186485           4.243944\n",
              "11    220  2822      299811  ...         15952.533333   2.256798           4.202830\n",
              "12    240  2992      315298  ...         14335.533333   2.189303           4.156414\n",
              "13    260  3133      329919  ...         13469.533333   2.099105           4.129353\n",
              "14    280  3262      343148  ...         12077.533333   2.055506           4.081978\n",
              "15    300  3371      355178  ...         10878.533333   1.971430           4.036570\n",
              "\n",
              "[15 rows x 9 columns]"
            ]
          },
          "metadata": {},
          "execution_count": 6
        }
      ]
    },
    {
      "cell_type": "markdown",
      "metadata": {
        "id": "sVlxY2ULW3vG"
      },
      "source": [
        "### GM\n",
        "\n",
        "Após calculado o $\\lambda$ é necessário fazer um ajuste não-linear da curva, ajuste exponencial."
      ]
    },
    {
      "cell_type": "code",
      "metadata": {
        "id": "2FblmoyaO1hO"
      },
      "source": [
        "def ajuste(x, a, lamb):\n",
        "  return a * np.exp(lamb * data['Tempo'])\n",
        "\n",
        "poptgm, pcovgm = curve_fit(ajuste, data['Tempo'], data['LogTaxaGM'], p0 = (3, -0.001))"
      ],
      "execution_count": null,
      "outputs": []
    },
    {
      "cell_type": "code",
      "metadata": {
        "colab": {
          "base_uri": "https://localhost:8080/"
        },
        "id": "gy-vfjzxTWMX",
        "outputId": "d26519f2-2663-4d01-ed22-cd2e7984c8f6"
      },
      "source": [
        "poptgm"
      ],
      "execution_count": null,
      "outputs": [
        {
          "output_type": "execute_result",
          "data": {
            "text/plain": [
              "array([ 2.60629224e+00, -8.29784369e-04])"
            ]
          },
          "metadata": {},
          "execution_count": 8
        }
      ]
    },
    {
      "cell_type": "code",
      "metadata": {
        "colab": {
          "base_uri": "https://localhost:8080/",
          "height": 501
        },
        "id": "wYGdgn8CTgEB",
        "outputId": "9a25d578-cf04-4d05-9cf8-6c542d1284bd"
      },
      "source": [
        "fig, ax = plt.subplots(1, figsize=(14,8))\n",
        "\n",
        "x_GM = np.linspace(0, 300, num=15)\n",
        "plt.plot(x_GM, ajuste(x_GM, *poptgm), linestyle='--', c='black', label='Curva ajustada')\n",
        "plt.scatter(data['Tempo'], data['LogTaxaGM'], c='orange', label='Meia-vida Bário 137')\n",
        "plt.xlabel('Tempo (s)', fontsize='14')\n",
        "plt.ylabel('Contagem de Eventos', fontsize='14')\n",
        "ax.text(180.0, 2.4, '$A_t = 4.6446 \\ e^{-4 \\ x \\ 10^{-8} \\ t}$',fontsize=14, bbox = dict(boxstyle='square', fc='none', ec='black',alpha=0.2))\n",
        "plt.legend(fontsize='12')\n",
        "plt.grid(linestyle='dotted')"
      ],
      "execution_count": null,
      "outputs": [
        {
          "output_type": "display_data",
          "data": {
            "image/png": "[encoded data removed]",
            "text/plain": [
              "<Figure size 1008x576 with 1 Axes>"
            ]
          },
          "metadata": {
            "needs_background": "light"
          }
        }
      ]
    },
    {
      "cell_type": "markdown",
      "metadata": {
        "id": "W9y-j482uWy3"
      },
      "source": [
        "####Meia-vida "
      ]
    },
    {
      "cell_type": "code",
      "metadata": {
        "id": "82dkXrYgucQh",
        "colab": {
          "base_uri": "https://localhost:8080/"
        },
        "outputId": "3ce3655d-82dc-4396-801b-3e0a3b08b20a"
      },
      "source": [
        "mv_gm = poptgm[1] * np.log(2)\n",
        "mv_gm"
      ],
      "execution_count": null,
      "outputs": [
        {
          "output_type": "execute_result",
          "data": {
            "text/plain": [
              "-0.0005751626959866094"
            ]
          },
          "metadata": {},
          "execution_count": 14
        }
      ]
    },
    {
      "cell_type": "markdown",
      "metadata": {
        "id": "trEX3Pi7W6mq"
      },
      "source": [
        "### Cintilador\n",
        "\n",
        "Após calculado o $\\lambda$ é necessário fazer um ajuste não-linear da curva, ajuste exponencial."
      ]
    },
    {
      "cell_type": "code",
      "metadata": {
        "id": "wWEoXZFKUoK1"
      },
      "source": [
        "def ajuste(x, a, lamb):\n",
        "  return a * np.exp(lamb * data['Tempo'])\n",
        "\n",
        "poptcintilador, pcovcintilador = curve_fit(ajuste, data['Tempo'], data['LogTaxaCintilador'], p0 = (5, -0.001))"
      ],
      "execution_count": null,
      "outputs": []
    },
    {
      "cell_type": "code",
      "metadata": {
        "colab": {
          "base_uri": "https://localhost:8080/"
        },
        "id": "WKZN_8rhXAfb",
        "outputId": "97693466-2501-4ee3-c1d1-e5e6e5cbfd51"
      },
      "source": [
        "poptcintilador"
      ],
      "execution_count": null,
      "outputs": [
        {
          "output_type": "execute_result",
          "data": {
            "text/plain": [
              "array([ 4.64460355e+00, -4.58450639e-04])"
            ]
          },
          "metadata": {},
          "execution_count": 11
        }
      ]
    },
    {
      "cell_type": "code",
      "metadata": {
        "colab": {
          "base_uri": "https://localhost:8080/",
          "height": 501
        },
        "id": "8HBxkbp5XJKy",
        "outputId": "5f0d0e00-ae9d-4c6a-a58a-a73c09d742d9"
      },
      "source": [
        "fig, ax = plt.subplots(1, figsize=(14,8))\n",
        "\n",
        "x_c = np.linspace(0, 300, num=15)\n",
        "plt.plot(x_c, ajuste(x_c, *poptcintilador), linestyle='--', c='black', label='Curva ajustada')\n",
        "plt.scatter(data['Tempo'], data['LogTaxaCintilador'], c='orange', label='Meia-vida Bário 137')\n",
        "plt.xlabel('Tempo (s)', fontsize='14')\n",
        "plt.ylabel('Contagem de Eventos', fontsize='14')\n",
        "ax.text(180.0, 4.4, '$A_t = 4.6446 \\ e^{-4 \\ x \\ 10^{-5} \\ t}$',fontsize=14, bbox = dict(boxstyle='square', fc='none', ec='black',alpha=0.2))\n",
        "plt.legend(fontsize='12')\n",
        "plt.grid(linestyle='dotted')"
      ],
      "execution_count": 18,
      "outputs": [
        {
          "output_type": "display_data",
          "data": {
            "image/png": "[encoded data removed]",
            "text/plain": [
              "<Figure size 1008x576 with 1 Axes>"
            ]
          },
          "metadata": {
            "needs_background": "light"
          }
        }
      ]
    },
    {
      "cell_type": "markdown",
      "metadata": {
        "id": "vroaM0jpuydA"
      },
      "source": [
        "####Meia-vida"
      ]
    },
    {
      "cell_type": "code",
      "metadata": {
        "id": "AzaGZhvjifRG",
        "colab": {
          "base_uri": "https://localhost:8080/"
        },
        "outputId": "c4c71f21-d62e-48fc-bc89-ed6a796a2f91"
      },
      "source": [
        "mv_cintilador = poptcintilador[1] * np.log(2)\n",
        "mv_cintilador"
      ],
      "execution_count": null,
      "outputs": [
        {
          "output_type": "execute_result",
          "data": {
            "text/plain": [
              "-0.0003177737677877915"
            ]
          },
          "metadata": {},
          "execution_count": 16
        }
      ]
    }
  ]
}