{
  "nbformat": 4,
  "nbformat_minor": 0,
  "metadata": {
    "colab": {
      "name": "StefanBoltzmann",
      "provenance": [],
      "collapsed_sections": [],
      "authorship_tag": "ABX9TyO/3cf2oBuPtkmiHPc7V/gC",
      "include_colab_link": true
    },
    "kernelspec": {
      "name": "python3",
      "display_name": "Python 3"
    }
  },
  "cells": [
    {
      "cell_type": "markdown",
      "metadata": {
        "id": "view-in-github",
        "colab_type": "text"
      },
      "source": [
        "<a href=\"https://colab.research.google.com/github/goulartsursula/disciplinas-uerj/blob/master/Estrutura%20da%20Materia%202/StefanBoltzmann.ipynb\" target=\"_parent\"><img src=\"https://colab.research.google.com/assets/colab-badge.svg\" alt=\"Open In Colab\"/></a>"
      ]
    },
    {
      "cell_type": "code",
      "metadata": {
        "colab": {
          "base_uri": "https://localhost:8080/"
        },
        "id": "mOUAfJl_8E46",
        "outputId": "c651aff9-10d2-4062-d41c-85153f9961be"
      },
      "source": [
        "import pandas as pd\r\n",
        "import numpy as np \r\n",
        "\r\n",
        "dados = pd.read_csv('Dados_StefanBoltzmann.dat', delimiter = '\\t')\r\n",
        "r = dados['vl']/dados['il']\r\n",
        "tref = 296.2\r\n",
        "rref = 0.292\r\n",
        "a = 4.5e-3\r\n",
        "\r\n",
        "t = tref + ((r - rref)/(a * rref))\r\n",
        "\r\n",
        "dados['errov'] = 0.005 * dados['vl'] + 0.03\r\n",
        "dados['erroi'] = 0.02 * dados['il'] + 0.05\r\n",
        "dados['error'] = r * (np.sqrt(np.power(errov/dados['vl'],2) + np.power(erroi/dados['il'],2)))\r\n",
        "dados['error_rref'] = error/rref\r\n",
        "\r\n",
        "print(dados)"
      ],
      "execution_count": 38,
      "outputs": [
        {
          "output_type": "stream",
          "text": [
            "       vl    il    vs    errov   erroi     error  error_rref\n",
            "0    5.01  1.87   4.5  0.05505  0.0874  0.055232    0.189151\n",
            "1    5.51  1.96   5.5  0.05755  0.0892  0.057955    0.198476\n",
            "2    6.00  2.05   6.6  0.06000  0.0910  0.060338    0.206637\n",
            "3    6.50  2.14   7.5  0.06250  0.0928  0.062617    0.214443\n",
            "4    7.00  2.22   8.5  0.06500  0.0944  0.065004    0.222616\n",
            "5    7.50  2.30   9.5  0.06750  0.0960  0.067225    0.230221\n",
            "6    8.00  2.38  10.4  0.07000  0.0976  0.069296    0.237315\n",
            "7    8.51  2.46  11.6  0.07255  0.0992  0.071316    0.244234\n",
            "8    8.99  2.53  12.7  0.07495  0.1006  0.073254    0.250871\n",
            "9    9.50  2.61  13.7  0.07750  0.1022  0.075037    0.256977\n",
            "10  10.00  2.68  14.9  0.08000  0.1036  0.076924    0.263437\n",
            "11  10.51  2.75  16.1  0.08255  0.1050  0.078789    0.269825\n",
            "12  11.00  2.82  17.2  0.08500  0.1064  0.080415    0.275394\n"
          ],
          "name": "stdout"
        }
      ]
    },
    {
      "cell_type": "code",
      "metadata": {
        "id": "7QzQDBxZAj7A"
      },
      "source": [
        ""
      ],
      "execution_count": null,
      "outputs": []
    }
  ]
}