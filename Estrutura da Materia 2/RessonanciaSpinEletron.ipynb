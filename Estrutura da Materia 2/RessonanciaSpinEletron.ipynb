{
  "nbformat": 4,
  "nbformat_minor": 0,
  "metadata": {
    "colab": {
      "name": "RessonanciaSpinEletron.ipynb",
      "provenance": [],
      "authorship_tag": "ABX9TyNgvn6wUdQrpMDws83Q2YFk",
      "include_colab_link": true
    },
    "kernelspec": {
      "name": "python3",
      "display_name": "Python 3"
    },
    "language_info": {
      "name": "python"
    }
  },
  "cells": [
    {
      "cell_type": "markdown",
      "metadata": {
        "id": "view-in-github",
        "colab_type": "text"
      },
      "source": [
        "<a href=\"https://colab.research.google.com/github/goulartsursula/DisciplinasUERJ/blob/master/Estrutura%20da%20Materia%202/RessonanciaSpinEletron.ipynb\" target=\"_parent\"><img src=\"https://colab.research.google.com/assets/colab-badge.svg\" alt=\"Open In Colab\"/></a>"
      ]
    },
    {
      "cell_type": "markdown",
      "metadata": {
        "id": "D5knYQgczq2V"
      },
      "source": [
        "##Ressonância de Spin do Elétron"
      ]
    },
    {
      "cell_type": "markdown",
      "metadata": {
        "id": "KoilaSdfz6oQ"
      },
      "source": [
        "###1. Legenda\n",
        "\n",
        "Momento dipolar magnético: ($\\mu_S$)\n",
        "\n",
        "Magneton de Bohr: ($\\mu_B$)\n",
        "\n",
        "Campo magnético: ($B$)\n",
        "\n",
        "Permeabilidade do vácuo: ($\\mu_0$)\n",
        "\n",
        "Número de espiras na bobina: ($N$)\n",
        "\n",
        "Raio das bobinas: ($R$)\n",
        "\n",
        "Corrente estabelecida: ($I$)\n",
        "\n",
        "Campo elétrico ($E$)\n",
        "\n",
        "Fator de Landé para o elétron ($g_s$)"
      ]
    },
    {
      "cell_type": "markdown",
      "metadata": {
        "id": "J5rpSByN5XCH"
      },
      "source": [
        "###2. Dados/ Formulário\n",
        "\n",
        "$\\mu_S = g_s \\mu_B \\frac{s}{h}$ \n",
        "\n",
        "$\\mu_B = \\frac{eh}{2m_c}$\n",
        "\n",
        "$\\Delta E = g_S \\mu_B B$\n",
        "\n",
        "$\\Delta E = hv$\n",
        "\n",
        "$E = m_S g_S \\mu_B B$\n",
        "\n",
        "$\\nu = \\frac{g_s\\mu_B B}{h}$\n",
        "\n",
        "$B = \\mu_0 (\\frac{4}{5})^{\\frac{3}{2}}N\\frac{1}{R}$\n",
        "\n",
        "$E = -\\mu_S B$\n",
        "\n",
        "$\\mu_0 = 1.256 \\times 10^{-6}H/m$\n",
        "\n",
        "$N = 320$\n",
        "\n",
        "$g_s$ = 2\n",
        "\n",
        "$h = 1.054571726 \\times 10^{−34}J.s$\n",
        "\n",
        "$m_S = \\pm \\frac{1}{2}$\n",
        "\n",
        "$R = (6.93 \\pm 0.02)cm$"
      ]
    },
    {
      "cell_type": "code",
      "metadata": {
        "id": "iq8DlZM79doA"
      },
      "source": [
        "import pandas as pd\n",
        "import numpy as np\n",
        "import matplotlib.pyplot as plt"
      ],
      "execution_count": 55,
      "outputs": []
    },
    {
      "cell_type": "code",
      "metadata": {
        "id": "-__OnhHTvYvh"
      },
      "source": [
        "#Dados\n",
        "g = 2\n",
        "h = 1.054571726e-34\n",
        "N = 320\n",
        "u0 = 1.256e-6\n",
        "m = 9.10938e-31\n",
        "e = 1.60217662e-19\n",
        "R = 0.0693\n",
        "erro_R = 0.0002"
      ],
      "execution_count": 56,
      "outputs": []
    },
    {
      "cell_type": "code",
      "metadata": {
        "colab": {
          "base_uri": "https://localhost:8080/",
          "height": 377
        },
        "id": "Ry-L81pYz8xf",
        "outputId": "140c53e2-f77f-418a-8be1-dfdf35ded30a"
      },
      "source": [
        "data = pd.read_csv('Dados_RessonanciaDoSpin.dat', sep='\\s+')\n",
        "data['IB = I/2'] = data['I']/2\n",
        "\n",
        "data.head(11)"
      ],
      "execution_count": 57,
      "outputs": [
        {
          "output_type": "execute_result",
          "data": {
            "text/html": [
              "<div>\n",
              "<style scoped>\n",
              "    .dataframe tbody tr th:only-of-type {\n",
              "        vertical-align: middle;\n",
              "    }\n",
              "\n",
              "    .dataframe tbody tr th {\n",
              "        vertical-align: top;\n",
              "    }\n",
              "\n",
              "    .dataframe thead th {\n",
              "        text-align: right;\n",
              "    }\n",
              "</style>\n",
              "<table border=\"1\" class=\"dataframe\">\n",
              "  <thead>\n",
              "    <tr style=\"text-align: right;\">\n",
              "      <th></th>\n",
              "      <th>F</th>\n",
              "      <th>I</th>\n",
              "      <th>IB = I/2</th>\n",
              "    </tr>\n",
              "  </thead>\n",
              "  <tbody>\n",
              "    <tr>\n",
              "      <th>0</th>\n",
              "      <td>30</td>\n",
              "      <td>0.64</td>\n",
              "      <td>0.320</td>\n",
              "    </tr>\n",
              "    <tr>\n",
              "      <th>1</th>\n",
              "      <td>33</td>\n",
              "      <td>0.70</td>\n",
              "      <td>0.350</td>\n",
              "    </tr>\n",
              "    <tr>\n",
              "      <th>2</th>\n",
              "      <td>36</td>\n",
              "      <td>0.76</td>\n",
              "      <td>0.380</td>\n",
              "    </tr>\n",
              "    <tr>\n",
              "      <th>3</th>\n",
              "      <td>39</td>\n",
              "      <td>0.82</td>\n",
              "      <td>0.410</td>\n",
              "    </tr>\n",
              "    <tr>\n",
              "      <th>4</th>\n",
              "      <td>42</td>\n",
              "      <td>0.90</td>\n",
              "      <td>0.450</td>\n",
              "    </tr>\n",
              "    <tr>\n",
              "      <th>5</th>\n",
              "      <td>45</td>\n",
              "      <td>0.96</td>\n",
              "      <td>0.480</td>\n",
              "    </tr>\n",
              "    <tr>\n",
              "      <th>6</th>\n",
              "      <td>48</td>\n",
              "      <td>1.03</td>\n",
              "      <td>0.515</td>\n",
              "    </tr>\n",
              "    <tr>\n",
              "      <th>7</th>\n",
              "      <td>51</td>\n",
              "      <td>1.09</td>\n",
              "      <td>0.545</td>\n",
              "    </tr>\n",
              "    <tr>\n",
              "      <th>8</th>\n",
              "      <td>54</td>\n",
              "      <td>1.13</td>\n",
              "      <td>0.565</td>\n",
              "    </tr>\n",
              "    <tr>\n",
              "      <th>9</th>\n",
              "      <td>57</td>\n",
              "      <td>1.19</td>\n",
              "      <td>0.595</td>\n",
              "    </tr>\n",
              "    <tr>\n",
              "      <th>10</th>\n",
              "      <td>60</td>\n",
              "      <td>1.26</td>\n",
              "      <td>0.630</td>\n",
              "    </tr>\n",
              "  </tbody>\n",
              "</table>\n",
              "</div>"
            ],
            "text/plain": [
              "     F     I  IB = I/2\n",
              "0   30  0.64     0.320\n",
              "1   33  0.70     0.350\n",
              "2   36  0.76     0.380\n",
              "3   39  0.82     0.410\n",
              "4   42  0.90     0.450\n",
              "5   45  0.96     0.480\n",
              "6   48  1.03     0.515\n",
              "7   51  1.09     0.545\n",
              "8   54  1.13     0.565\n",
              "9   57  1.19     0.595\n",
              "10  60  1.26     0.630"
            ]
          },
          "metadata": {
            "tags": []
          },
          "execution_count": 57
        }
      ]
    },
    {
      "cell_type": "markdown",
      "metadata": {
        "id": "8Z9h5yny_3AG"
      },
      "source": [
        "###3. Ajuste Linear\n",
        "\n",
        "$\\nu = aI_B + b$"
      ]
    },
    {
      "cell_type": "code",
      "metadata": {
        "id": "0dQGxHQt99k_",
        "colab": {
          "base_uri": "https://localhost:8080/",
          "height": 337
        },
        "outputId": "f9b04c13-24ae-442d-e7d2-405198ec0696"
      },
      "source": [
        "x = data['IB = I/2']\n",
        "y = data['F']\n",
        "\n",
        "def lsq_sq(x, y):  \n",
        "  n = np.size(x)\n",
        "  mx, my = np.mean(x), np.mean(y)\n",
        "\n",
        "  cov = np.mean(x * y) - mx * my\n",
        "  var = np.var(x)\n",
        "\n",
        "  a = cov/var\n",
        "  b = my - a *mx\n",
        "\n",
        "  ey = np.sqrt(np.sum(np.power(y - (a * x + b),2) / (n - 2)))\n",
        "  \n",
        "  erro_a = ey / (np.sqrt(var) * np.sqrt(n))\n",
        "  erro_b = erro_a * np.sqrt(np.mean(np.power(x, 2)))\n",
        "\n",
        "  print(f'y = ({round(a,2)} +- {round(erro_a,2)})x +' + f'( {round(b,2)} +- {round(erro_b,2)})')\n",
        "  return a, erro_a, b, erro_b\n",
        "\n",
        "parametros = lsq_sq(x, y)\n",
        "\n",
        "plt.scatter(data['IB = I/2'], (data['F']), marker='+', color='blue')\n",
        "plt.plot(data['IB = I/2'], parametros[0]*data['IB = I/2']+parametros[2], color='red')\n",
        "\n",
        "plt.title ('$v$ (MHz) x $I_B$(A) \\n', fontsize=14)\n",
        "plt.xlabel('$I_B$ (A)')\n",
        "plt.ylabel('$v$ (MHz)')\n",
        "plt.show()\n"
      ],
      "execution_count": 58,
      "outputs": [
        {
          "output_type": "stream",
          "text": [
            "y = (96.29 +- 1.47)x +( -0.87 +- 0.72)\n"
          ],
          "name": "stdout"
        },
        {
          "output_type": "display_data",
          "data": {
            "image/png": "[encoded data removed]",
            "text/plain": [
              "<Figure size 432x288 with 1 Axes>"
            ]
          },
          "metadata": {
            "tags": [],
            "needs_background": "light"
          }
        }
      ]
    },
    {
      "cell_type": "markdown",
      "metadata": {
        "id": "ypFvFP6_TWPO"
      },
      "source": [
        "###4. Fator de Landé\n",
        "\n",
        "$\\nu = \\frac{5^{3/2}}{2}\\frac{\\pi m_e R}{e \\nu_0 N}a$"
      ]
    },
    {
      "cell_type": "code",
      "metadata": {
        "colab": {
          "base_uri": "https://localhost:8080/"
        },
        "id": "5DKe9I4AOszk",
        "outputId": "cbd4bb21-a163-4be4-ef12-e3fcfe82d59b"
      },
      "source": [
        "gexp = ((np.power(5, 3/2)*np.pi*m*R*parametros[0])/(2*e*u0*N))*(np.power(10, 6)) #Multiplicando por 10e6 por causa do MHz\n",
        "erro_gexp = gexp * (np.sqrt(np.power((parametros[1]/parametros[0]),2)+np.power((erro_R/R),2)))\n",
        "\n",
        "print(gexp, '+-', erro_gexp)"
      ],
      "execution_count": 59,
      "outputs": [
        {
          "output_type": "stream",
          "text": [
            "1.657762493614374 +- 0.02578975260784328\n"
          ],
          "name": "stdout"
        }
      ]
    },
    {
      "cell_type": "markdown",
      "metadata": {
        "id": "Yo-KUdDDqkdp"
      },
      "source": [
        "###4.1 Discrepância"
      ]
    },
    {
      "cell_type": "code",
      "metadata": {
        "colab": {
          "base_uri": "https://localhost:8080/"
        },
        "id": "icxWUQpVq0gQ",
        "outputId": "8c78b68a-b231-444e-8751-9cc22d09d165"
      },
      "source": [
        "D = np.abs(g - gexp)\n",
        "\n",
        "if D < 2*erro_gexp:\n",
        "  print ('É compatível com o valor de referência: D = ', D)\n",
        "\n",
        "if 2*erro_gexp < D < 3*erro_gexp:\n",
        "  print('Inconclusivo: D = ', D)\n",
        "\n",
        "if D > 3*erro_gexp:\n",
        "  print('Não é compatível com o valor de referência: D = ', D)"
      ],
      "execution_count": 60,
      "outputs": [
        {
          "output_type": "stream",
          "text": [
            "Não é compatível com o valor de referência: D =  0.342237506385626\n"
          ],
          "name": "stdout"
        }
      ]
    },
    {
      "cell_type": "markdown",
      "metadata": {
        "id": "Eg-jCzUKs_6s"
      },
      "source": [
        "###4.2 Erro relativo"
      ]
    },
    {
      "cell_type": "code",
      "metadata": {
        "colab": {
          "base_uri": "https://localhost:8080/"
        },
        "id": "u2UfhrsRrAtz",
        "outputId": "4af41b54-ca1e-4355-a514-6f6c2ef44442"
      },
      "source": [
        "E = (erro_gexp/gexp)*100\n",
        "print(round(E, 2), '%')"
      ],
      "execution_count": 61,
      "outputs": [
        {
          "output_type": "stream",
          "text": [
            "1.56 %\n"
          ],
          "name": "stdout"
        }
      ]
    }
  ]
}