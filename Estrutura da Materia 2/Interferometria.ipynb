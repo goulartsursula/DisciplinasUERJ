{
  "nbformat": 4,
  "nbformat_minor": 0,
  "metadata": {
    "colab": {
      "name": "Interferometria",
      "provenance": [],
      "authorship_tag": "ABX9TyOUfcmuzTCI3CKe4ppuCUFD",
      "include_colab_link": true
    },
    "kernelspec": {
      "name": "python3",
      "display_name": "Python 3"
    },
    "language_info": {
      "name": "python"
    }
  },
  "cells": [
    {
      "cell_type": "markdown",
      "metadata": {
        "id": "view-in-github",
        "colab_type": "text"
      },
      "source": [
        "<a href=\"https://colab.research.google.com/github/goulartsursula/disciplinas-uerj/blob/master/Estrutura%20da%20Materia%202/Interferometria.ipynb\" target=\"_parent\"><img src=\"https://colab.research.google.com/assets/colab-badge.svg\" alt=\"Open In Colab\"/></a>"
      ]
    },
    {
      "cell_type": "code",
      "metadata": {
        "id": "d3LCkOKEnm06",
        "colab": {
          "base_uri": "https://localhost:8080/",
          "height": 875
        },
        "outputId": "701e1963-7eaa-44b3-b8e7-c466c64c5990"
      },
      "source": [
        "import numpy as np\n",
        "import pandas as pd\n",
        "import matplotlib.pyplot as plt\n",
        "\n",
        "data = pd.read_csv('Dados_VelocidadeDaLuz.dat', sep='\\s+')\n",
        "data['DeltaP'] = data['Pf'] - data['Pi']\n",
        "data.head(13)\n",
        "\n",
        "#Gráfico DeltaP x N\n",
        "\n",
        "plt.scatter(data['DeltaP'], data['N'], marker='+')\n",
        "plt.xlabel('$\\Delta P$')\n",
        "plt.ylabel('N')\n",
        "\n",
        "plt.show()\n",
        "\n",
        "x = data['DeltaP']\n",
        "y = data['N']\n",
        "\n",
        "#Ajuste Linear\n",
        "\n",
        "def lsq_sq(x, y):  \n",
        "  n = np.size(x)\n",
        "  mx, my = np.mean(x), np.mean(y)\n",
        "\n",
        "  cov = np.mean(x * y) - mx * my\n",
        "  var = np.var(x)\n",
        "\n",
        "  a = cov/var\n",
        "  b = my - a *mx\n",
        "\n",
        "  ey = np.sqrt(np.sum(np.power(y - (a * x + b),2) / (n - 2)))\n",
        "  \n",
        "  erro_a = ey / (np.sqrt(var) * np.sqrt(n))\n",
        "  erro_b = erro_a * np.sqrt(np.mean(np.power(x, 2)))\n",
        "\n",
        "  print(f'y = ({a} +- {erro_a})x +' + f'( {b} +- {erro_b})')\n",
        "  return a, erro_a, b, erro_b\n",
        "\n",
        "parametros = lsq_sq(x, y)\n",
        "\n",
        "\n",
        "#Gráfico do Ajuste Linear\n",
        "\n",
        "x = np.arange(data['DeltaP'].values.min(), data['DeltaP'].values.max()+1)\n",
        "y = parametros[2] + parametros[0] * x\n",
        "\n",
        "plt.scatter(data['DeltaP'], data['N'], marker='+')\n",
        "plt.plot(x, y, color='red')\n",
        "plt.ylabel('N')\n",
        "plt.xlabel('$\\Delta$P')\n",
        "\n",
        "plt.show()\n",
        "\n",
        "#Definindo constantes\n",
        "\n",
        "lamb = 632.8e-7\n",
        "m = parametros[0]\n",
        "erro_m = parametros[1]\n",
        "d = 3\n",
        "\n",
        "# Estimativa de beta\n",
        "beta = lamb*m/2*d\n",
        "erro_beta = beta * (np.sqrt(np.power((erro_m/m),2)+np.power((0.1/d),2)))\n",
        "\n",
        "# Gráfico n x P: Mostrar que a relação entre n e P é uma relação linear\n",
        "P = np.arange(0, 120)\n",
        "n = beta * P + 1\n",
        "\n",
        "plt.plot(P, n)\n",
        "plt.ylabel('n')\n",
        "plt.xlabel('P')\n",
        "\n",
        "# Estimativa indice de refração do ar\n",
        "n_ar = (m*lamb*76 / (2*d) + 1, erro_beta * 76)\n",
        "print('Estimativa n_ar:', n_ar)\n",
        "\n",
        "#Discrepancia\n",
        "disc = np.abs(n_ar[0] - 1.0002044)/n_ar[1]\n",
        "print('Discrepancia:', disc)\n",
        "\n",
        "#Erro relativo\n",
        "print('Erro relativo:', (n_ar[1]/n_ar[0])*100)\n"
      ],
      "execution_count": 32,
      "outputs": [
        {
          "output_type": "display_data",
          "data": {
            "image/png": "[encoded data removed]",
            "text/plain": [
              "<Figure size 432x288 with 1 Axes>"
            ]
          },
          "metadata": {
            "tags": [],
            "needs_background": "light"
          }
        },
        {
          "output_type": "stream",
          "text": [
            "y = (0.28851174934725826 +- 0.012125732800444102)x +( -0.12924281984333996 +- 0.14128910455238902)\n"
          ],
          "name": "stdout"
        },
        {
          "output_type": "display_data",
          "data": {
            "image/png": "[encoded data removed]",
            "text/plain": [
              "<Figure size 432x288 with 1 Axes>"
            ]
          },
          "metadata": {
            "tags": [],
            "needs_background": "light"
          }
        },
        {
          "output_type": "stream",
          "text": [
            "Estimativa n_ar: (1.0002312556309834, 0.00011164603577268354)\n",
            "Discrepancia: 0.24054262918870883\n",
            "Erro relativo: 0.011162022296759068\n"
          ],
          "name": "stdout"
        },
        {
          "output_type": "display_data",
          "data": {
            "image/png": "[encoded data removed]",
            "text/plain": [
              "<Figure size 432x288 with 1 Axes>"
            ]
          },
          "metadata": {
            "tags": [],
            "needs_background": "light"
          }
        }
      ]
    },
    {
      "cell_type": "code",
      "metadata": {
        "id": "xMAjRR1OiHx9"
      },
      "source": [
        ""
      ],
      "execution_count": null,
      "outputs": []
    }
  ]
}