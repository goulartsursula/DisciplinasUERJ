{
  "nbformat": 4,
  "nbformat_minor": 0,
  "metadata": {
    "colab": {
      "name": "Untitled3.ipynb",
      "provenance": [],
      "authorship_tag": "ABX9TyPcmrldeb0vnxILwz6gdoCT",
      "include_colab_link": true
    },
    "kernelspec": {
      "name": "python3",
      "display_name": "Python 3"
    }
  },
  "cells": [
    {
      "cell_type": "markdown",
      "metadata": {
        "id": "view-in-github",
        "colab_type": "text"
      },
      "source": [
        "<a href=\"https://colab.research.google.com/github/goulartsursula/disciplinas-uerj/blob/master/Espectroscopia-1.ipynb\" target=\"_parent\"><img src=\"https://colab.research.google.com/assets/colab-badge.svg\" alt=\"Open In Colab\"/></a>"
      ]
    },
    {
      "cell_type": "code",
      "metadata": {
        "id": "9DRvU92S3Pid",
        "outputId": "a1469c51-7bdb-49d6-eccb-1ee1b0ac1b04",
        "colab": {
          "base_uri": "https://localhost:8080/",
          "height": 292
        }
      },
      "source": [
        "#Reta de calibração do hidrogenio\n",
        "import numpy as np\n",
        "import matplotlib.pyplot as plt\n",
        "\n",
        "delta_theta = np.array([0.139, 0.151, 0.203])\n",
        "n = np.array([6, 4, 3])\n",
        "a = 28.454333605887387E-7\n",
        "b = 1.6674428545470782E-7\n",
        "\n",
        "y = a * (delta_theta) + b\n",
        "K = 1/y\n",
        "B = (1/4) - (1/(n**2))\n",
        "\n",
        "print(K)\n",
        "print(B)\n",
        "\n",
        "def lsq_sq(K, B):\n",
        "  n = np.size(K)\n",
        "  mK, mB = np.mean(K), np.mean(B)\n",
        "\n",
        "  cov = np.mean(K * B) - mK * mB\n",
        "  var = np.var(K)\n",
        "\n",
        "  a = cov/var\n",
        "  b = mB - a *mK\n",
        "\n",
        "  ey = np.sqrt(np.sum(np.power(B - (a * K + b),2) / (n - 2)))\n",
        "\n",
        "  erro_a = ey / (np.sqrt(var) * np.sqrt(n))\n",
        "  erro_b = erro_a * np.sqrt(np.mean(np.power(K, 2)))\n",
        "\n",
        "  print(f'y = ({a} +- {erro_a})x +' + f'( {b} +- {erro_b})')\n",
        "  return a, erro_a, b, erro_b\n",
        "\n",
        "parametros = lsq_sq(K, B)\n",
        "\n",
        "#Gráfico espectro de hidrogenio\n",
        "\n",
        "x = np.array([0.22222222, 0.1875, 0.13888889])\n",
        "y = np.array([1.78E-4, 1.68E-4, 1.34E-4])\n",
        "\n",
        "x1 = np.linspace(0.12, 0.25 , 1000)\n",
        "y1 = parametros[a]*x1 + parametros[b]\n",
        "\n",
        "plt.plot(x1, y1)\n",
        "plt.scatter(x, y, color = 'red')\n",
        "plt.xlabel(r'$\\frac{1}{n_i^2}-\\frac{1}{n_f^2}$', fontsize=14)\n",
        "plt.ylabel(r'$\\frac{1}{\\lambda}$', fontsize=15)\n",
        "plt.grid(True)\n",
        "plt.show()"
      ],
      "execution_count": 51,
      "outputs": [
        {
          "output_type": "stream",
          "text": [
            "[1778538.13025259 1676713.75090975 1343422.87320828]\n",
            "[0.22222222 0.1875     0.13888889]\n",
            "y = (1.801836668852439e-07 +- 3.691089857742972e-08)x +( -0.1053439007736783 +- 0.05943820688595208)\n"
          ],
          "name": "stdout"
        },
        {
          "output_type": "error",
          "ename": "TypeError",
          "evalue": "ignored",
          "traceback": [
            "\u001b[0;31m---------------------------------------------------------------------------\u001b[0m",
            "\u001b[0;31mTypeError\u001b[0m                                 Traceback (most recent call last)",
            "\u001b[0;32m<ipython-input-51-655ccbdea58a>\u001b[0m in \u001b[0;36m<module>\u001b[0;34m()\u001b[0m\n\u001b[1;32m     40\u001b[0m \u001b[0;34m\u001b[0m\u001b[0m\n\u001b[1;32m     41\u001b[0m \u001b[0mx1\u001b[0m \u001b[0;34m=\u001b[0m \u001b[0mnp\u001b[0m\u001b[0;34m.\u001b[0m\u001b[0mlinspace\u001b[0m\u001b[0;34m(\u001b[0m\u001b[0;36m0.12\u001b[0m\u001b[0;34m,\u001b[0m \u001b[0;36m0.25\u001b[0m \u001b[0;34m,\u001b[0m \u001b[0;36m1000\u001b[0m\u001b[0;34m)\u001b[0m\u001b[0;34m\u001b[0m\u001b[0;34m\u001b[0m\u001b[0m\n\u001b[0;32m---> 42\u001b[0;31m \u001b[0my1\u001b[0m \u001b[0;34m=\u001b[0m \u001b[0mparametros\u001b[0m\u001b[0;34m[\u001b[0m\u001b[0ma\u001b[0m\u001b[0;34m]\u001b[0m\u001b[0;34m*\u001b[0m\u001b[0mx1\u001b[0m \u001b[0;34m+\u001b[0m \u001b[0mparametros\u001b[0m\u001b[0;34m[\u001b[0m\u001b[0mb\u001b[0m\u001b[0;34m]\u001b[0m\u001b[0;34m\u001b[0m\u001b[0;34m\u001b[0m\u001b[0m\n\u001b[0m\u001b[1;32m     43\u001b[0m \u001b[0;34m\u001b[0m\u001b[0m\n\u001b[1;32m     44\u001b[0m \u001b[0mplt\u001b[0m\u001b[0;34m.\u001b[0m\u001b[0mplot\u001b[0m\u001b[0;34m(\u001b[0m\u001b[0mx1\u001b[0m\u001b[0;34m,\u001b[0m \u001b[0my1\u001b[0m\u001b[0;34m)\u001b[0m\u001b[0;34m\u001b[0m\u001b[0;34m\u001b[0m\u001b[0m\n",
            "\u001b[0;31mTypeError\u001b[0m: tuple indices must be integers or slices, not float"
          ]
        }
      ]
    },
    {
      "cell_type": "code",
      "metadata": {
        "id": "Bqq7h3463Yhv"
      },
      "source": [
        ""
      ],
      "execution_count": null,
      "outputs": []
    }
  ]
}
