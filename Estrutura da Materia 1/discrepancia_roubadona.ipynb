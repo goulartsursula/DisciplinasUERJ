{
  "nbformat": 4,
  "nbformat_minor": 0,
  "metadata": {
    "colab": {
      "name": "discrepancia_roubadona.ipynb",
      "provenance": [],
      "authorship_tag": "ABX9TyMk/3PZam6CcUou2baKRYlz",
      "include_colab_link": true
    },
    "kernelspec": {
      "name": "python3",
      "display_name": "Python 3"
    }
  },
  "cells": [
    {
      "cell_type": "markdown",
      "metadata": {
        "id": "view-in-github",
        "colab_type": "text"
      },
      "source": [
        "<a href=\"https://colab.research.google.com/github/goulartsursula/disciplinas-uerj/blob/master/discrepancia_roubadona.ipynb\" target=\"_parent\"><img src=\"https://colab.research.google.com/assets/colab-badge.svg\" alt=\"Open In Colab\"/></a>"
      ]
    },
    {
      "cell_type": "code",
      "metadata": {
        "id": "T9Ir3fCSstVM"
      },
      "source": [
        "import numpy as np"
      ],
      "execution_count": 4,
      "outputs": []
    },
    {
      "cell_type": "code",
      "metadata": {
        "colab": {
          "base_uri": "https://localhost:8080/"
        },
        "id": "MeYq6AN5sxZC",
        "outputId": "52c37cbd-4c92-4a92-8b1e-6d01b2df9296"
      },
      "source": [
        "tensao = np.array([175, 200, 250, 275, 300])\r\n",
        "corrente = np.array([1.25, 1.50, 1.50, 2.00, 2.25])\r\n",
        "raio = np.array([4.55,4.05, 4.65, 3.35, 3.15]) / 100\r\n",
        "sigma_cg = np.array([27099268126.473244, 30139269331.95308, 32341290497.05461, 36619212238.32298, 26097268197.055576])\r\n",
        "\r\n",
        "k = 125 * np.power(0.149, 2) / (32 * np.power(124, 2) * np.power(1.26E-6, 2)) \r\n",
        "\r\n",
        "print(k) \r\n",
        "\r\n",
        "def carga_massa(tensao, corrente, raio, k):\r\n",
        "  cg = k * tensao / (np.power(corrente, 2) * np.power(raio, 2))\r\n",
        "  return cg\r\n",
        "\r\n",
        "cg = carga_massa(tensao, corrente, raio, k)\r\n",
        "\r\n",
        "def compatibilidade(valores):\r\n",
        "  for i in range (len(valores)):\r\n",
        "    for j in range (len(valores)):\r\n",
        "      if i == j or j < i:\r\n",
        "        continue\r\n",
        "      dp = np.abs(valores[i]-valores[j])\r\n",
        "      print(f'{i+1}{j+1}   '+str(dp))\r\n",
        "\r\n",
        "def espaco():\r\n",
        "  print('\\n')\r\n",
        "\r\n",
        "def compatibilidade_error(sigmas):\r\n",
        "  for i in range (len(sigmas)):\r\n",
        "    for j in range (len(sigmas)):\r\n",
        "      if i == j or j < i:\r\n",
        "        continue\r\n",
        "      dp_error = np.sqrt(np.power(sigmas[i], 2) + np.power(sigmas[j],2))\r\n",
        "      print(f'{i+1}{j+1}  '+str(dp_error))\r\n",
        "\r\n",
        "compatibilidade(cg)\r\n",
        "espaco()\r\n",
        "compatibilidade_error(sigma_cg)"
      ],
      "execution_count": 31,
      "outputs": [
        {
          "output_type": "stream",
          "text": [
            "3552614.7201326666\n",
            "12   328739709.3887329\n",
            "13   9638048723.292938\n",
            "14   25440677134.116882\n",
            "15   19974075949.37851\n",
            "23   9966788432.681671\n",
            "24   25111937424.72815\n",
            "25   19645336239.989777\n",
            "34   35078725857.40982\n",
            "35   29612124672.671448\n",
            "45   5466601184.738373\n",
            "\n",
            "\n",
            "12  40530801729.72768\n",
            "13  42193949850.72343\n",
            "14  45555867217.580574\n",
            "15  37622303761.7254\n",
            "23  44207857071.77947\n",
            "24  47427231216.03612\n",
            "25  39867818641.26825\n",
            "34  48856174389.428185\n",
            "35  41557508086.55306\n",
            "45  44967033616.910866\n"
          ],
          "name": "stdout"
        }
      ]
    },
    {
      "cell_type": "code",
      "metadata": {
        "id": "YHVwKD-92nOf"
      },
      "source": [
        ""
      ],
      "execution_count": null,
      "outputs": []
    }
  ]
}
