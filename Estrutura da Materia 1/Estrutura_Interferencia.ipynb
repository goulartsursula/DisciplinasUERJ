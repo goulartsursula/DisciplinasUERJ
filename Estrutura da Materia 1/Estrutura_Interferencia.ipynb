{
  "nbformat": 4,
  "nbformat_minor": 0,
  "metadata": {
    "colab": {
      "name": "Estrutura_Interferencia.ipynb",
      "provenance": [],
      "authorship_tag": "ABX9TyP+alA+5I6rIQlC9LMZCRsX",
      "include_colab_link": true
    },
    "kernelspec": {
      "name": "python3",
      "display_name": "Python 3"
    }
  },
  "cells": [
    {
      "cell_type": "markdown",
      "metadata": {
        "id": "view-in-github",
        "colab_type": "text"
      },
      "source": [
        "<a href=\"https://colab.research.google.com/github/goulartsursula/disciplinas-uerj/blob/master/estrutura/Estrutura_Interferencia.ipynb\" target=\"_parent\"><img src=\"https://colab.research.google.com/assets/colab-badge.svg\" alt=\"Open In Colab\"/></a>"
      ]
    },
    {
      "cell_type": "code",
      "metadata": {
        "id": "gGc8ca6WoiN3",
        "outputId": "e884864d-d424-4007-d7fe-7dcc706959e6",
        "colab": {
          "base_uri": "https://localhost:8080/"
        }
      },
      "source": [
        "import numpy as np\n",
        "\n",
        "D = (277.3 - 8) / 100\n",
        "d = np.array([0.25, 0.5, 0.25, 0.5]) / 1000\n",
        "\n",
        "x = D/d\n",
        "y = np.array([2.7, 3.1, 2.1, 1.8]) / np.array([4, 9, 3, 5]) / 100\n",
        "\n",
        "def lsq_sq(x, y):  \n",
        "  n = np.size(x)\n",
        "  mx, my = np.mean(x), np.mean(y)\n",
        "\n",
        "  cov = np.mean(x * y) - mx * my\n",
        "  var = np.var(x)\n",
        "\n",
        "  a = cov/var\n",
        "  b = my - a *mx\n",
        "\n",
        "  ey = np.sqrt(np.sum(np.power(y - (a * x + b),2) / (n - 2)))\n",
        "  \n",
        "  erro_a = ey / (np.sqrt(var) * np.sqrt(n))\n",
        "  erro_b = erro_a * np.sqrt(np.mean(np.power(x, 2)))\n",
        "\n",
        "  print(f'y = ({a} +- {erro_a})x +' + f'( {b} +- {erro_b})')\n",
        "  return a, erro_a, b, erro_b\n",
        "\n",
        "parametros = lsq_sq(x, y)\n",
        "\n",
        "def discrepancia(valor_t, valor_exp):\n",
        "  print('A discrepância é', abs(valor_t - valor_exp))\n",
        "\n",
        "discrepancia(632.8e-9, parametros[0])"
      ],
      "execution_count": 21,
      "outputs": [
        {
          "output_type": "stream",
          "text": [
            "y = (6.224986590749677e-07 +- 2.733424103643192e-08)x +( 0.00016944444444444776 +- 0.0002327787722068392)\n",
            "A discrepância é 1.0301340925032317e-08\n"
          ],
          "name": "stdout"
        }
      ]
    }
  ]
}
